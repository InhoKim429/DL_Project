{
 "metadata": {
  "language_info": {
   "codemirror_mode": {
    "name": "ipython",
    "version": 3
   },
   "file_extension": ".py",
   "mimetype": "text/x-python",
   "name": "python",
   "nbconvert_exporter": "python",
   "pygments_lexer": "ipython3",
   "version": "3.8.5"
  },
  "orig_nbformat": 2,
  "kernelspec": {
   "name": "python385jvsc74a57bd0ea0e2d8fd73e440997c046f126b497ce4faf12264ffe3dcb55b8dc2bc1cab34a",
   "display_name": "Python 3.8.5 64-bit"
  }
 },
 "nbformat": 4,
 "nbformat_minor": 2,
 "cells": [
  {
   "cell_type": "code",
   "execution_count": 4,
   "metadata": {
    "tags": []
   },
   "outputs": [],
   "source": [
    "import numpy as np\n",
    "from tqdm import tqdm\n",
    "import torch\n",
    "import torch.nn as nn\n",
    "from model_utility import *\n",
    "from model_dataloader import *\n",
    "from torch.utils.data import DataLoader\n",
    "\n",
    "dataset = GraphList(\"./data/AM.npy\", \"./data/train.txt\", \"./data/test.txt\")\n",
    "train_list, valid_list, test_list = dataset.make_dataset()\n",
    "\n",
    "batch_size = 8\n",
    "train_dataset = GraphDataset(train_list, batch_size)\n",
    "valid_dataset = GraphDataset(valid_list, batch_size)\n",
    "test_dataset  = GraphDataset(test_list, batch_size)\n",
    "\n",
    "train_loader  = DataLoader(train_dataset, batch_size = batch_size, shuffle = True, drop_last = True)\n",
    "valid_loader  = DataLoader(valid_dataset, batch_size = batch_size, shuffle = False, drop_last = True)\n",
    "test_loader   = DataLoader(test_dataset, batch_size = batch_size, shuffle = False, drop_last = True)\n",
    "\n",
    "\n",
    "class Net(nn.Module):\n",
    "    def __init__(self, hidden_dim = [492, 512, 256, 128, 64, 3]):\n",
    "        super(Net, self).__init__()\n",
    "        self.hidden_dim = hidden_dim\n",
    "        self.gelu    = nn.GELU()\n",
    "        self.softmax = nn.Softmax(dim = 1)\n",
    "\n",
    "        self.linear1 = nn.Linear(492, self.hidden_dim[0])\n",
    "        self.linear2 = nn.Linear(self.hidden_dim[0], self.hidden_dim[1])\n",
    "        self.linear3 = nn.Linear(self.hidden_dim[1], self.hidden_dim[2])\n",
    "        self.linear4 = nn.Linear(self.hidden_dim[2], self.hidden_dim[3])\n",
    "        self.linear5 = nn.Linear(self.hidden_dim[3], self.hidden_dim[4])\n",
    "        self.linear6 = nn.Linear(self.hidden_dim[4], self.hidden_dim[5])\n",
    "        # self.linear7 = nn.Linear(self.hidden_dim[4], self.hidden_dim[5])\n",
    "        self.sequential = nn.Sequential(\n",
    "                                self.linear1,\n",
    "                                self.gelu,\n",
    "                                self.linear2,\n",
    "                                self.gelu,\n",
    "                                self.linear3,\n",
    "                                self.gelu,\n",
    "                                self.linear4,\n",
    "                                self.gelu,\n",
    "                                self.linear5,\n",
    "                                self.gelu,\n",
    "                                self.linear6)\n",
    "\n",
    "        self.last_linear = nn.Linear(9, 3)\n",
    "    def forward(self, graph):\n",
    "        out = self.sequential(graph)\n",
    "        out = out.permute(0, 2, 1)\n",
    "        out = self.sequential(out)\n",
    "\n",
    "        B, H, W = out.shape\n",
    "        out = out.view(B, -1)\n",
    "        out = self.last_linear(out)\n",
    "        out = self.softmax(out)\n",
    "        return out\n",
    "\n",
    "model = Net()\n",
    "test  = torch.ones([8, 492, 492])\n",
    "out   = model(test)\n",
    "\n",
    "optimizer = torch.optim.Adam(model.parameters(), lr = 0.001)\n",
    "criterion   = nn.CrossEntropyLoss()"
   ]
  },
  {
   "cell_type": "code",
   "execution_count": 3,
   "metadata": {
    "tags": []
   },
   "outputs": [
    {
     "output_type": "stream",
     "name": "stdout",
     "text": [
      "0\n"
     ]
    },
    {
     "output_type": "error",
     "ename": "KeyboardInterrupt",
     "evalue": "",
     "traceback": [
      "\u001b[1;31m---------------------------------------------------------------------------\u001b[0m",
      "\u001b[1;31mKeyboardInterrupt\u001b[0m                         Traceback (most recent call last)",
      "\u001b[1;32m<ipython-input-3-81902cccd4d9>\u001b[0m in \u001b[0;36m<module>\u001b[1;34m\u001b[0m\n\u001b[0;32m     11\u001b[0m         \u001b[1;31m# print(torch.argmax(pred, 1).shape)\u001b[0m\u001b[1;33m\u001b[0m\u001b[1;33m\u001b[0m\u001b[1;33m\u001b[0m\u001b[0m\n\u001b[0;32m     12\u001b[0m         \u001b[0mloss\u001b[0m \u001b[1;33m=\u001b[0m \u001b[0mcriterion\u001b[0m\u001b[1;33m(\u001b[0m\u001b[0mpred\u001b[0m\u001b[1;33m,\u001b[0m \u001b[0mlabel\u001b[0m\u001b[1;33m)\u001b[0m\u001b[1;33m\u001b[0m\u001b[1;33m\u001b[0m\u001b[0m\n\u001b[1;32m---> 13\u001b[1;33m         \u001b[0mloss\u001b[0m\u001b[1;33m.\u001b[0m\u001b[0mbackward\u001b[0m\u001b[1;33m(\u001b[0m\u001b[1;33m)\u001b[0m\u001b[1;33m\u001b[0m\u001b[1;33m\u001b[0m\u001b[0m\n\u001b[0m\u001b[0;32m     14\u001b[0m         \u001b[0moptimizer\u001b[0m\u001b[1;33m.\u001b[0m\u001b[0mstep\u001b[0m\u001b[1;33m(\u001b[0m\u001b[1;33m)\u001b[0m\u001b[1;33m\u001b[0m\u001b[1;33m\u001b[0m\u001b[0m\n\u001b[0;32m     15\u001b[0m \u001b[1;33m\u001b[0m\u001b[0m\n",
      "\u001b[1;32m~\\AppData\\Local\\Programs\\Python\\Python38\\lib\\site-packages\\torch\\tensor.py\u001b[0m in \u001b[0;36mbackward\u001b[1;34m(self, gradient, retain_graph, create_graph)\u001b[0m\n\u001b[0;32m    219\u001b[0m                 \u001b[0mretain_graph\u001b[0m\u001b[1;33m=\u001b[0m\u001b[0mretain_graph\u001b[0m\u001b[1;33m,\u001b[0m\u001b[1;33m\u001b[0m\u001b[1;33m\u001b[0m\u001b[0m\n\u001b[0;32m    220\u001b[0m                 create_graph=create_graph)\n\u001b[1;32m--> 221\u001b[1;33m         \u001b[0mtorch\u001b[0m\u001b[1;33m.\u001b[0m\u001b[0mautograd\u001b[0m\u001b[1;33m.\u001b[0m\u001b[0mbackward\u001b[0m\u001b[1;33m(\u001b[0m\u001b[0mself\u001b[0m\u001b[1;33m,\u001b[0m \u001b[0mgradient\u001b[0m\u001b[1;33m,\u001b[0m \u001b[0mretain_graph\u001b[0m\u001b[1;33m,\u001b[0m \u001b[0mcreate_graph\u001b[0m\u001b[1;33m)\u001b[0m\u001b[1;33m\u001b[0m\u001b[1;33m\u001b[0m\u001b[0m\n\u001b[0m\u001b[0;32m    222\u001b[0m \u001b[1;33m\u001b[0m\u001b[0m\n\u001b[0;32m    223\u001b[0m     \u001b[1;32mdef\u001b[0m \u001b[0mregister_hook\u001b[0m\u001b[1;33m(\u001b[0m\u001b[0mself\u001b[0m\u001b[1;33m,\u001b[0m \u001b[0mhook\u001b[0m\u001b[1;33m)\u001b[0m\u001b[1;33m:\u001b[0m\u001b[1;33m\u001b[0m\u001b[1;33m\u001b[0m\u001b[0m\n",
      "\u001b[1;32m~\\AppData\\Local\\Programs\\Python\\Python38\\lib\\site-packages\\torch\\autograd\\__init__.py\u001b[0m in \u001b[0;36mbackward\u001b[1;34m(tensors, grad_tensors, retain_graph, create_graph, grad_variables)\u001b[0m\n\u001b[0;32m    128\u001b[0m         \u001b[0mretain_graph\u001b[0m \u001b[1;33m=\u001b[0m \u001b[0mcreate_graph\u001b[0m\u001b[1;33m\u001b[0m\u001b[1;33m\u001b[0m\u001b[0m\n\u001b[0;32m    129\u001b[0m \u001b[1;33m\u001b[0m\u001b[0m\n\u001b[1;32m--> 130\u001b[1;33m     Variable._execution_engine.run_backward(\n\u001b[0m\u001b[0;32m    131\u001b[0m         \u001b[0mtensors\u001b[0m\u001b[1;33m,\u001b[0m \u001b[0mgrad_tensors_\u001b[0m\u001b[1;33m,\u001b[0m \u001b[0mretain_graph\u001b[0m\u001b[1;33m,\u001b[0m \u001b[0mcreate_graph\u001b[0m\u001b[1;33m,\u001b[0m\u001b[1;33m\u001b[0m\u001b[1;33m\u001b[0m\u001b[0m\n\u001b[0;32m    132\u001b[0m         allow_unreachable=True)  # allow_unreachable flag\n",
      "\u001b[1;31mKeyboardInterrupt\u001b[0m: "
     ]
    }
   ],
   "source": [
    "for epoch in tqdm(range(100)):\n",
    "    train_loss     = 0\n",
    "    train_accuracy = 0\n",
    "\n",
    "    for index, (graph, label) in enumerate(train_loader):\n",
    "        optimizer.zero_grad()\n",
    "\n",
    "        pred  = model(graph)\n",
    "        # print(pred.shape)\n",
    "        # print(label.shape)\n",
    "        # print(torch.argmax(pred, 1).shape)\n",
    "        loss = criterion(pred, label)\n",
    "        loss.backward()\n",
    "        optimizer.step()\n",
    "\n",
    "        correct_prediction = torch.argmax(pred, 1) == label\n",
    "        train_loss         = train_loss + (loss / len(train_loader))\n",
    "        train_accuracy     = train_accuracy + correct_prediction.float().mean()\n",
    "    print(\"Epoch {0} Train loss {1:0.5f} Train accuracy {2:0.5f}\".format(epoch, train_loss, train_accuracy))"
   ]
  }
 ]
}